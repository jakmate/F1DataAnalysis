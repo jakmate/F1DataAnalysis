{
 "cells": [
  {
   "cell_type": "code",
   "execution_count": 1,
   "metadata": {},
   "outputs": [],
   "source": [
    "import pandas as pd\n",
    "import time\n",
    "from sklearn.model_selection import train_test_split\n",
    "from sklearn.ensemble import RandomForestClassifier\n",
    "from sklearn.metrics import accuracy_score, classification_report\n",
    "from api import JolpicaF1API"
   ]
  },
  {
   "cell_type": "code",
   "execution_count": 2,
   "metadata": {},
   "outputs": [],
   "source": [
    "api = JolpicaF1API()"
   ]
  },
  {
   "cell_type": "code",
   "execution_count": 3,
   "metadata": {},
   "outputs": [],
   "source": [
    "test = api.getRaceResults(2024, 2)"
   ]
  },
  {
   "cell_type": "code",
   "execution_count": 4,
   "metadata": {},
   "outputs": [],
   "source": [
    "def get_race_data(season: int) -> pd.DataFrame:\n",
    "    \"\"\"Get race data for a season including round numbers\"\"\"\n",
    "    data = api.getRaceInfo(season=str(season))\n",
    "    return pd.DataFrame(data['MRData']['RaceTable']['Races'])\n",
    "\n",
    "def get_qualifying_data(season: int, round_num: int) -> pd.DataFrame:\n",
    "    \"\"\"Get qualifying results for a specific race\"\"\"\n",
    "    data = api.getQualifyingResults(season=str(season), round=int(round_num))\n",
    "    return pd.DataFrame(data['MRData']['RaceTable']['Races'][0]['QualifyingResults'])\n",
    "\n",
    "def get_race_results(season: int, round_num: int) -> pd.DataFrame:\n",
    "    \"\"\"Get race results for a specific race\"\"\"\n",
    "    data = api.getRaceResults(season=str(season), round=int(round_num))\n",
    "    return pd.DataFrame(data['MRData']['RaceTable']['Races'][0]['Results'])"
   ]
  },
  {
   "cell_type": "code",
   "execution_count": 23,
   "metadata": {},
   "outputs": [],
   "source": [
    "recent_years = list(range(2012, 2024))\n",
    "british_gp_data = []"
   ]
  },
  {
   "cell_type": "code",
   "execution_count": 24,
   "metadata": {},
   "outputs": [],
   "source": [
    "for year in recent_years:\n",
    "    season_races = get_race_data(year)\n",
    "    british_gp = season_races[season_races['raceName'].str.contains(\"British Grand Prix\")]\n",
    "    \n",
    "    if not british_gp.empty:\n",
    "        round_num = british_gp.iloc[0]['round']\n",
    "        \n",
    "        # Get qualifying and results\n",
    "        qualifying = get_qualifying_data(year, round_num)\n",
    "        results = get_race_results(year, round_num)\n",
    "        \n",
    "        # Add metadata\n",
    "        qualifying['season'] = year\n",
    "        qualifying['round'] = round_num\n",
    "        results['season'] = year\n",
    "        results['round'] = round_num\n",
    "        \n",
    "        british_gp_data.append({\n",
    "            'year': year,\n",
    "            'round': round_num,\n",
    "            'qualifying': qualifying,\n",
    "            'results': results\n",
    "        })\n",
    "    time.sleep(0.5) "
   ]
  },
  {
   "cell_type": "code",
   "execution_count": 25,
   "metadata": {},
   "outputs": [],
   "source": [
    "qualifying_dfs = []\n",
    "results_dfs = []\n",
    "\n",
    "for race in british_gp_data:\n",
    "    q = race['qualifying'].copy()\n",
    "    q['driverId'] = q['Driver'].apply(lambda x: x['driverId'])\n",
    "    q['position'] = q['position'].astype(int)\n",
    "    qualifying_dfs.append(q[['season', 'round', 'driverId', 'position']])\n",
    "    \n",
    "    r = race['results'].copy()\n",
    "    r['driverId'] = r['Driver'].apply(lambda x: x['driverId'])\n",
    "    r['positionOrder'] = r['position'].fillna(0).astype(int)\n",
    "    r['positionOrder'] = r['positionOrder'].replace(0, r['positionOrder'].max() + 1)\n",
    "    results_dfs.append(r[['season', 'round', 'driverId', 'positionOrder']])\n",
    "\n",
    "qualifying_historical = pd.concat(qualifying_dfs)\n",
    "results_historical = pd.concat(results_dfs)"
   ]
  },
  {
   "cell_type": "code",
   "execution_count": 26,
   "metadata": {},
   "outputs": [],
   "source": [
    "# Calculate average positions\n",
    "avg_qualifying = qualifying_historical.groupby('driverId')['position'].mean().reset_index()\n",
    "avg_race = results_historical.groupby('driverId')['positionOrder'].mean().reset_index()\n",
    "\n",
    "# Create target variable (winners)\n",
    "winners = results_historical[results_historical['positionOrder'] == 1]['driverId'].unique()\n",
    "\n",
    "# Merge features\n",
    "features = avg_qualifying.merge(avg_race, on='driverId')\n",
    "features['winner'] = features['driverId'].isin(winners).astype(int)\n",
    "features = features.rename(columns={'position': 'qualifying_position', 'positionOrder': 'race_position'})"
   ]
  },
  {
   "cell_type": "code",
   "execution_count": 27,
   "metadata": {},
   "outputs": [
    {
     "name": "stdout",
     "output_type": "stream",
     "text": [
      "Accuracy: 0.9230769230769231\n",
      "Classification Report:\n",
      "               precision    recall  f1-score   support\n",
      "\n",
      "           0       1.00      0.92      0.96        13\n",
      "           1       0.00      0.00      0.00         0\n",
      "\n",
      "    accuracy                           0.92        13\n",
      "   macro avg       0.50      0.46      0.48        13\n",
      "weighted avg       1.00      0.92      0.96        13\n",
      "\n"
     ]
    },
    {
     "name": "stderr",
     "output_type": "stream",
     "text": [
      "c:\\ProgramData\\anaconda3\\Lib\\site-packages\\sklearn\\metrics\\_classification.py:1469: UndefinedMetricWarning: Recall and F-score are ill-defined and being set to 0.0 in labels with no true samples. Use `zero_division` parameter to control this behavior.\n",
      "  _warn_prf(average, modifier, msg_start, len(result))\n",
      "c:\\ProgramData\\anaconda3\\Lib\\site-packages\\sklearn\\metrics\\_classification.py:1469: UndefinedMetricWarning: Recall and F-score are ill-defined and being set to 0.0 in labels with no true samples. Use `zero_division` parameter to control this behavior.\n",
      "  _warn_prf(average, modifier, msg_start, len(result))\n",
      "c:\\ProgramData\\anaconda3\\Lib\\site-packages\\sklearn\\metrics\\_classification.py:1469: UndefinedMetricWarning: Recall and F-score are ill-defined and being set to 0.0 in labels with no true samples. Use `zero_division` parameter to control this behavior.\n",
      "  _warn_prf(average, modifier, msg_start, len(result))\n"
     ]
    }
   ],
   "source": [
    "# Model training\n",
    "X = features[['qualifying_position', 'race_position']]\n",
    "y = features['winner']\n",
    "X_train, X_test, y_train, y_test = train_test_split(X, y, test_size=0.2, random_state=21)\n",
    "\n",
    "model = RandomForestClassifier(n_estimators=200, random_state=21)\n",
    "model.fit(X_train, y_train)\n",
    "\n",
    "# Evaluation\n",
    "y_pred = model.predict(X_test)\n",
    "print(\"Accuracy:\", accuracy_score(y_test, y_pred))\n",
    "print(\"Classification Report:\\n\", classification_report(y_test, y_pred))"
   ]
  },
  {
   "cell_type": "code",
   "execution_count": 28,
   "metadata": {},
   "outputs": [],
   "source": [
    "# Get 2024 data for prediction\n",
    "current_races = get_race_data(2024)\n",
    "\n",
    "# Find the British GP round\n",
    "british_gp_2024 = current_races[current_races['raceName'].str.contains(\"British Grand Prix\")]\n",
    "british_gp_round = None\n",
    "\n",
    "if not british_gp_2024.empty:\n",
    "    british_gp_round = british_gp_2024.iloc[0]['round']"
   ]
  },
  {
   "cell_type": "code",
   "execution_count": 29,
   "metadata": {},
   "outputs": [
    {
     "name": "stdout",
     "output_type": "stream",
     "text": [
      "Found 20 drivers participating in 2024 British GP\n"
     ]
    }
   ],
   "source": [
    "# Determine who's actually participating\n",
    "try:\n",
    "    british_gp_qualifying = get_qualifying_data(2024, british_gp_round)\n",
    "    british_gp_drivers = set(british_gp_qualifying['Driver'].apply(lambda x: x['driverId']))\n",
    "    print(f\"Found {len(british_gp_drivers)} drivers participating in 2024 British GP\")\n",
    "except:\n",
    "    # Fallback if the GP hasn't occurred yet\n",
    "    print(\"GP qualifying data not available yet, using all active drivers\")\n",
    "    british_gp_drivers = None"
   ]
  },
  {
   "cell_type": "code",
   "execution_count": 30,
   "metadata": {},
   "outputs": [],
   "source": [
    "# Get current season data for all races so far\n",
    "qualifying_2024 = []\n",
    "results_2024 = []\n",
    "\n",
    "for _, race in current_races.iterrows():\n",
    "    try:\n",
    "        q = get_qualifying_data(2024, race['round'])\n",
    "        q['driverId'] = q['Driver'].apply(lambda x: x['driverId'])\n",
    "        qualifying_2024.append(q[['driverId', 'position']])\n",
    "        \n",
    "        r = get_race_results(2024, race['round'])\n",
    "        r['driverId'] = r['Driver'].apply(lambda x: x['driverId'])\n",
    "        results_2024.append(r[['driverId', 'position']])\n",
    "        time.sleep(0.5)\n",
    "    except Exception as e:\n",
    "        print(f\"Could not get data for round {race['round']}: {e}\")"
   ]
  },
  {
   "cell_type": "code",
   "execution_count": 31,
   "metadata": {},
   "outputs": [],
   "source": [
    "current_qual = (\n",
    "    pd.concat(qualifying_2024)\n",
    "    .assign(position=lambda x: x['position'].fillna(0).astype(int))\n",
    "    .groupby('driverId')['position']\n",
    "    .mean()\n",
    "    .reset_index()\n",
    ")\n",
    "\n",
    "current_results = (\n",
    "    pd.concat(results_2024)\n",
    "    .assign(position=lambda x: x['position'].fillna(0).astype(int))\n",
    "    .groupby('driverId')['position']\n",
    "    .mean()\n",
    "    .reset_index()\n",
    ")"
   ]
  },
  {
   "cell_type": "code",
   "execution_count": 32,
   "metadata": {},
   "outputs": [],
   "source": [
    "# Handle any remaining invalid values before merging\n",
    "max_position = max(current_qual['position'].max(), current_results['position'].max()) or 20\n",
    "current_qual['position'] = current_qual['position'].replace(0, max_position + 1)\n",
    "current_results['position'] = current_results['position'].replace(0, max_position + 1)"
   ]
  },
  {
   "cell_type": "code",
   "execution_count": 33,
   "metadata": {},
   "outputs": [],
   "source": [
    "current_features = current_qual.merge(\n",
    "    current_results,\n",
    "    on='driverId',\n",
    "    suffixes=('_qual', '_race')\n",
    ").rename(columns={\n",
    "    'position_qual': 'qualifying_position',\n",
    "    'position_race': 'race_position'\n",
    "})"
   ]
  },
  {
   "cell_type": "code",
   "execution_count": 34,
   "metadata": {},
   "outputs": [
    {
     "name": "stdout",
     "output_type": "stream",
     "text": [
      "Filtered to 20 participating drivers\n",
      "2024 British GP Predictions:\n",
      "           driverId  qualifying_position  race_position  predicted_winner\n",
      "0             albon            12.500000      14.625000                 0\n",
      "1            alonso             9.666667      10.208333                 0\n",
      "3            bottas            15.291667      15.875000                 0\n",
      "6             gasly            13.166667      12.916667                 0\n",
      "7          hamilton             8.541667       7.000000                 0\n",
      "8        hulkenberg            11.791667      11.666667                 0\n",
      "9   kevin_magnussen            14.318182      13.363636                 0\n",
      "11          leclerc             5.333333       4.583333                 0\n",
      "12   max_verstappen             2.916667       3.666667                 0\n",
      "13           norris             3.583333       4.333333                 0\n",
      "14             ocon            14.478261      13.739130                 0\n",
      "15            perez             9.333333       9.708333                 0\n",
      "16          piastri             5.416667       5.166667                 0\n",
      "17        ricciardo            13.333333      13.444444                 0\n",
      "18          russell             5.166667       5.958333                 0\n",
      "19            sainz             5.565217       5.695652                 0\n",
      "20         sargeant            17.642857      17.285714                 0\n",
      "21           stroll            12.958333      13.416667                 0\n",
      "22          tsunoda            11.166667      13.166667                 0\n",
      "23             zhou            18.166667      15.541667                 0\n"
     ]
    }
   ],
   "source": [
    "# Filter only drivers participating in the British GP\n",
    "if british_gp_drivers:\n",
    "    current_features = current_features[current_features['driverId'].isin(british_gp_drivers)]\n",
    "    print(f\"Filtered to {len(current_features)} participating drivers\")\n",
    "\n",
    "current_features = current_features.fillna(max_position + 1)\n",
    "current_features = current_features[(current_features['qualifying_position'] > 0) & \n",
    "                                    (current_features['race_position'] > 0)]\n",
    "\n",
    "# Make predictions for the filtered list of drivers\n",
    "current_features['predicted_winner'] = model.predict(\n",
    "    current_features[['qualifying_position', 'race_position']].astype(float))\n",
    "\n",
    "print(\"2024 British GP Predictions:\")\n",
    "print(current_features[['driverId', 'qualifying_position', 'race_position', 'predicted_winner']])"
   ]
  }
 ],
 "metadata": {
  "kernelspec": {
   "display_name": "base",
   "language": "python",
   "name": "python3"
  },
  "language_info": {
   "codemirror_mode": {
    "name": "ipython",
    "version": 3
   },
   "file_extension": ".py",
   "mimetype": "text/x-python",
   "name": "python",
   "nbconvert_exporter": "python",
   "pygments_lexer": "ipython3",
   "version": "3.11.5"
  }
 },
 "nbformat": 4,
 "nbformat_minor": 2
}
