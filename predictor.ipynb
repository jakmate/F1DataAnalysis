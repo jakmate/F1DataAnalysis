{
 "cells": [
  {
   "cell_type": "markdown",
   "metadata": {},
   "source": [
    "## Predictor from https://www.kaggle.com/code/sevrussnape/data-analytics-project/notebook#3.-Race-Strategy-Optimization-via-Simulation"
   ]
  },
  {
   "cell_type": "code",
   "execution_count": 4,
   "metadata": {},
   "outputs": [],
   "source": [
    "import pandas as pd\n",
    "from sklearn.model_selection import train_test_split\n",
    "from sklearn.ensemble import RandomForestClassifier\n",
    "from sklearn.metrics import accuracy_score, classification_report\n",
    "from utils import getFiles"
   ]
  },
  {
   "cell_type": "code",
   "execution_count": 5,
   "metadata": {},
   "outputs": [],
   "source": [
    "# Load the datasets\n",
    "files = getFiles()\n",
    "\n",
    "# Load all datasets into a dictionary\n",
    "data = {name: pd.read_csv(path) for name, path in files.items()}"
   ]
  },
  {
   "cell_type": "code",
   "execution_count": 6,
   "metadata": {},
   "outputs": [
    {
     "name": "stdout",
     "output_type": "stream",
     "text": [
      "Accuracy: 0.9285714285714286\n",
      "Classification Report:\n",
      "               precision    recall  f1-score   support\n",
      "\n",
      "           0       1.00      0.92      0.96        12\n",
      "           1       0.67      1.00      0.80         2\n",
      "\n",
      "    accuracy                           0.93        14\n",
      "   macro avg       0.83      0.96      0.88        14\n",
      "weighted avg       0.95      0.93      0.93        14\n",
      "\n",
      "        driver  avg_qualifying_position  avg_race_position  predicted_winner\n",
      "0     Hamilton                 7.750000           6.916667                 1\n",
      "1       Alonso                10.000000           9.833333                 0\n",
      "2   Hülkenberg                11.666667          10.916667                 0\n",
      "3        Pérez                 8.250000           7.833333                 0\n",
      "4    Ricciardo                13.166667          13.583333                 0\n",
      "5       Bottas                15.166667          15.916667                 0\n",
      "6    Magnussen                15.666667          13.583333                 0\n",
      "7   Verstappen                 1.833333           3.416667                 0\n",
      "8        Sainz                 5.181818           5.000000                 0\n",
      "9         Ocon                14.166667          13.416667                 0\n",
      "10      Stroll                12.000000          11.916667                 0\n",
      "11       Gasly                14.916667          13.833333                 0\n",
      "12     Leclerc                 5.250000           6.083333                 0\n",
      "13      Norris                 3.750000           4.833333                 1\n",
      "14     Russell                 5.083333           7.333333                 0\n",
      "15       Albon                13.000000          14.583333                 0\n",
      "16     Tsunoda                11.166667          12.250000                 0\n",
      "17        Zhou                18.166667          15.333333                 0\n",
      "18     Piastri                 5.500000           5.750000                 0\n",
      "19    Sargeant                17.636364          17.272727                 0\n",
      "20     Bearman                11.000000           7.000000                 0\n"
     ]
    }
   ],
   "source": [
    "# Filter races for the Italian Grand Prix from the past 10 years\n",
    "recent_years = [2016, 2017, 2018, 2019, 2020, 2021, 2022, 2023]\n",
    "races = data['races']\n",
    "italian_gp_recent = races[(races['name'].str.contains(\"British Grand Prix\")) & (races['year'].isin(recent_years))]\n",
    "\n",
    "# Merge qualifying data with Italian GP data\n",
    "qualifying = data['qualifying']\n",
    "qualifying_italian_gp_recent = qualifying[qualifying['raceId'].isin(italian_gp_recent['raceId'])]\n",
    "\n",
    "# Merge results data with Italian GP data\n",
    "results = data['results']\n",
    "results_italian_gp_recent = results[results['raceId'].isin(italian_gp_recent['raceId'])]\n",
    "\n",
    "# Calculate average qualifying position and race position\n",
    "avg_qualifying_position = qualifying_italian_gp_recent.groupby('driverId')['position'].mean().reset_index().rename(columns={'position': 'avg_qualifying_position'})\n",
    "avg_race_position = results_italian_gp_recent.groupby('driverId')['positionOrder'].mean().reset_index().rename(columns={'positionOrder': 'avg_race_position'})\n",
    "\n",
    "# Merge features\n",
    "features = avg_qualifying_position.merge(avg_race_position, on='driverId')\n",
    "\n",
    "# Create a binary target variable for race winners\n",
    "results_italian_gp_recent = results_italian_gp_recent.copy()  # Create a copy to avoid SettingWithCopyWarning\n",
    "results_italian_gp_recent.loc[:, 'winner'] = results_italian_gp_recent['positionOrder'] == 1\n",
    "race_winners_recent = results_italian_gp_recent[['raceId', 'driverId', 'winner']]\n",
    "race_winners_recent = race_winners_recent[race_winners_recent['winner']].drop(columns=['winner'])\n",
    "\n",
    "# Merge target with features\n",
    "data_recent = features.merge(race_winners_recent, on='driverId', how='left').fillna(0)\n",
    "\n",
    "# Prepare data for model\n",
    "X = data_recent[['avg_qualifying_position', 'avg_race_position']]\n",
    "y = data_recent['driverId'].apply(lambda x: 1 if x in race_winners_recent['driverId'].values else 0)\n",
    "\n",
    "# Train-test split\n",
    "X_train, X_test, y_train, y_test = train_test_split(X, y, test_size=0.3, random_state=42)\n",
    "\n",
    "# Train model\n",
    "model = RandomForestClassifier(n_estimators=100, random_state=42)\n",
    "model.fit(X_train, y_train)\n",
    "\n",
    "# Predict and evaluate\n",
    "y_pred = model.predict(X_test)\n",
    "print(\"Accuracy:\", accuracy_score(y_test, y_pred))\n",
    "print(\"Classification Report:\\n\", classification_report(y_test, y_pred))\n",
    "\n",
    "# Filter drivers participating in the 2024 championship\n",
    "races_2024 = races[races['year'] == 2024]\n",
    "results_2024 = results[results['raceId'].isin(races_2024['raceId'])]\n",
    "\n",
    "# Get unique driver IDs for the 2024 season\n",
    "drivers_2024_ids = results_2024['driverId'].unique()\n",
    "\n",
    "# Sample average qualifying and race positions for drivers competing in 2024\n",
    "latest_qualifying_position = qualifying[qualifying['driverId'].isin(drivers_2024_ids) & qualifying['raceId'].isin(races_2024['raceId'])].groupby('driverId')['position'].mean().reset_index().rename(columns={'position': 'avg_qualifying_position'})\n",
    "latest_race_position = results[results['driverId'].isin(drivers_2024_ids) & results['raceId'].isin(races_2024['raceId'])].groupby('driverId')['positionOrder'].mean().reset_index().rename(columns={'positionOrder': 'avg_race_position'})\n",
    "\n",
    "# Merge features for prediction\n",
    "latest_features = latest_qualifying_position.merge(latest_race_position, on='driverId')\n",
    "\n",
    "# Predict\n",
    "latest_features['predicted_winner'] = model.predict(latest_features[['avg_qualifying_position', 'avg_race_position']])\n",
    "\n",
    "# Map driver IDs to names\n",
    "drivers = data['drivers']\n",
    "driver_id_to_name = dict(zip(drivers['driverId'], drivers['surname']))\n",
    "latest_features['driver'] = latest_features['driverId'].map(driver_id_to_name)\n",
    "\n",
    "# Show predictions\n",
    "print(latest_features[['driver', 'avg_qualifying_position', 'avg_race_position', 'predicted_winner']])"
   ]
  },
  {
   "cell_type": "code",
   "execution_count": null,
   "metadata": {},
   "outputs": [],
   "source": []
  }
 ],
 "metadata": {
  "kernelspec": {
   "display_name": "base",
   "language": "python",
   "name": "python3"
  },
  "language_info": {
   "codemirror_mode": {
    "name": "ipython",
    "version": 3
   },
   "file_extension": ".py",
   "mimetype": "text/x-python",
   "name": "python",
   "nbconvert_exporter": "python",
   "pygments_lexer": "ipython3",
   "version": "3.11.5"
  }
 },
 "nbformat": 4,
 "nbformat_minor": 2
}
